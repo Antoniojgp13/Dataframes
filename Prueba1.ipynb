{
 "cells": [
  {
   "cell_type": "code",
   "execution_count": 1,
   "metadata": {},
   "outputs": [
    {
     "name": "stdout",
     "output_type": "stream",
     "text": [
      "     Nombre  Edad\n",
      "0      Alex    10\n",
      "1   Alfonso    18\n",
      "2      Juan    23\n",
      "3  Fernando    30\n"
     ]
    }
   ],
   "source": [
    "import pandas as pd\n",
    "data = [['Alex', 10],['Alfonso', 18],['Juan', 23],['Fernando', 30]]\n",
    "df = pd.DataFrame(data,columns=['Nombre', 'Edad'])\n",
    "print (df)"
   ]
  },
  {
   "cell_type": "code",
   "execution_count": null,
   "metadata": {},
   "outputs": [],
   "source": []
  }
 ],
 "metadata": {
  "kernelspec": {
   "display_name": "Python 3",
   "language": "python",
   "name": "python3"
  },
  "language_info": {
   "codemirror_mode": {
    "name": "ipython",
    "version": 3
   },
   "file_extension": ".py",
   "mimetype": "text/x-python",
   "name": "python",
   "nbconvert_exporter": "python",
   "pygments_lexer": "ipython3",
   "version": "3.7.0"
  }
 },
 "nbformat": 4,
 "nbformat_minor": 2
}
